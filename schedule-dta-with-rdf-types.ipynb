#διάβασμα του αρχείου csv από προηγούμενα εργαστήρια
import csv
URIlist = []
with open('URIEAV.csv','r',newline='') as ifp:
    reader = csv.reader(ifp)
    for row in reader:
         URIlist.append(row)
            
#καθορισμός τύπου δεδομένων            
NTriplesList = []
for s,p,o in URIlist :

    if (p == 'http://dilab77.ionio.gr/swp/c17kour/vocab#Έναρξη')  or (p == 'http://dilab77.ionio.gr/swp/c17kour/vocab#Λήξη'):
        o =  '"' + o + ':00"' + '^^<http://www.w3.org/2001/XMLSchema#time>'
    elif   p == 'http://dilab77.ionio.gr/swp/c17kour/vocab#Ημέρα':
        o = '"' + o + '"'
    else :
         o = '<' + o + '>'
    #--Νέος κώδικας- Προσθήκη των δηλώσεων rdf: type        
    if (p == 'http://dilab77.ionio.gr/swp/c17kour/vocab#Καθηγητής%20'):
        s =  o 
        p = 'http://www.w3.org/1999/02/22-rdf-syntax-ns#type'
        o = '<http://dilab77.ionio.gr/swp/c17kour/vocab#Καθηγητής%20>'
    elif (p == 'http://dilab77.ionio.gr/swp/c17kour/vocab#Μάθημα'):
        s =  o 
        p = 'http://www.w3.org/1999/02/22-rdf-syntax-ns#type'
        o = '<http://dilab77.ionio.gr/swp/c17kour/vocab#Μάθημα>'    
    elif (p == 'http://dilab77.ionio.gr/swp/c17kour/vocab#Αίθουσα'):
        s =  o 
        p = 'http://www.w3.org/1999/02/22-rdf-syntax-ns#type'
        o = '<http://dilab77.ionio.gr/swp/c17kour/vocab#Αίθουσα>'     
   
    p = '<' + p + '>'
    NTriplesList.append([s,p,o])
    
#παραγωγή του ntriples
with open('schedule-data.nt','w') as ofp:
    for s,p,o in NTriplesList:
        thisLine  = s +' '+ p +' ' + o +'.'  + '\n'
        ofp.write(thisLine)

#έλεγχος εγκυρότητας του αρχείου        
!riot --validate schedule-data.nt

#Μετατροπή του αρχείου σε μορφή Turtle
!riot --output=turtle schedule-data.nt > schedule-data.ttl
