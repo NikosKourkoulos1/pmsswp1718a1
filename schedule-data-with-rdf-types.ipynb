{
 "cells": [
  {
   "cell_type": "code",
   "execution_count": 17,
   "metadata": {
    "collapsed": false
   },
   "outputs": [],
   "source": [
    "#διάβασμα του αρχείου csv από προηγούμενα εργαστήρια\n",
    "import csv\n",
    "URIlist = []\n",
    "with open('URIEAV.csv','r',newline='') as ifp:\n",
    "    reader = csv.reader(ifp)\n",
    "    for row in reader:\n",
    "         URIlist.append(row)\n",
    "            \n",
    "#καθορισμός τύπου δεδομένων            \n",
    "NTriplesList = []\n",
    "for s,p,o in URIlist :\n",
    "\n",
    "    if (p == 'http://dilab77.ionio.gr/swp/c17kour/vocab#Έναρξη')  or (p == 'http://dilab77.ionio.gr/swp/c17kour/vocab#Λήξη'):\n",
    "        o =  '\"' + o + ':00\"' + '^^<http://www.w3.org/2001/XMLSchema#time>'\n",
    "    elif   p == 'http://dilab77.ionio.gr/swp/c17kour/vocab#Ημέρα':\n",
    "        o = '\"' + o + '\"'\n",
    "    else :\n",
    "         o = '<' + o + '>'\n",
    "    #--Νέος κώδικας- Προσθήκη των δηλώσεων rdf: type        \n",
    "    if (p == 'http://dilab77.ionio.gr/swp/c17kour/vocab#Καθηγητής%20'):\n",
    "        s =  o \n",
    "        p = 'http://www.w3.org/1999/02/22-rdf-syntax-ns#type'\n",
    "        o = '<http://dilab77.ionio.gr/swp/c17kour/vocab#Καθηγητής%20>'\n",
    "    elif (p == 'http://dilab77.ionio.gr/swp/c17kour/vocab#Μάθημα'):\n",
    "        s =  o \n",
    "        p = 'http://www.w3.org/1999/02/22-rdf-syntax-ns#type'\n",
    "        o = '<http://dilab77.ionio.gr/swp/c17kour/vocab#Μάθημα>'    \n",
    "    elif (p == 'http://dilab77.ionio.gr/swp/c17kour/vocab#Αίθουσα'):\n",
    "        s =  o \n",
    "        p = 'http://www.w3.org/1999/02/22-rdf-syntax-ns#type'\n",
    "        o = '<http://dilab77.ionio.gr/swp/c17kour/vocab#Αίθουσα>'     \n",
    "   \n",
    "    p = '<' + p + '>'\n",
    "    NTriplesList.append([s,p,o])\n",
    "    \n",
    "#παραγωγή του ntriples\n",
    "with open('schedule-data.nt','w') as ofp:\n",
    "    for s,p,o in NTriplesList:\n",
    "        thisLine  = s +' '+ p +' ' + o +'.'  + '\\n'\n",
    "        ofp.write(thisLine)\n",
    "\n",
    "#έλεγχος εγκυρότητας του αρχείου        \n",
    "!riot --validate schedule-data.nt\n",
    "\n",
    "#Μετατροπή του αρχείου σε μορφή Turtle\n",
    "!riot --output=turtle schedule-data.nt > schedule-data.ttl"
   ]
  },
  {
   "cell_type": "code",
   "execution_count": null,
   "metadata": {
    "collapsed": true
   },
   "outputs": [],
   "source": []
  }
 ],
 "metadata": {
  "kernelspec": {
   "display_name": "Python 3",
   "language": "python",
   "name": "python3"
  },
  "language_info": {
   "codemirror_mode": {
    "name": "ipython",
    "version": 3
   },
   "file_extension": ".py",
   "mimetype": "text/x-python",
   "name": "python",
   "nbconvert_exporter": "python",
   "pygments_lexer": "ipython3",
   "version": "3.4.4"
  }
 },
 "nbformat": 4,
 "nbformat_minor": 0
}
